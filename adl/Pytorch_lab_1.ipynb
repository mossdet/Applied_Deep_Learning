{
 "cells": [
  {
   "cell_type": "code",
   "execution_count": 1,
   "id": "777c3a85-04b0-4535-a1da-c964c4333d04",
   "metadata": {},
   "outputs": [],
   "source": [
    "import torch\n",
    "from torch import nn\n",
    "from torch.utils.data import DataLoader\n",
    "from torchvision import datasets\n",
    "from torchvision.transforms import ToTensor"
   ]
  },
  {
   "cell_type": "markdown",
   "id": "e9ebf956-6b7c-450c-b7ac-211c9b3f1d96",
   "metadata": {},
   "source": [
    "# Make sure we the GPU is being used"
   ]
  },
  {
   "cell_type": "code",
   "execution_count": 2,
   "id": "79fe8c4e-d74d-4f8e-8b22-8f86674da61c",
   "metadata": {},
   "outputs": [
    {
     "name": "stdout",
     "output_type": "stream",
     "text": [
      "torch.cuda.is_available() True\n",
      "torch.cuda.device_count() 1\n",
      "torch.cuda.current_device() 0\n",
      "torch.cuda.get_device_name(0) NVIDIA GeForce GTX 1650 Ti\n",
      "torch.cuda.is_available() True\n",
      "NVIDIA GeForce GTX 1650 Ti\n",
      "Memory Usage:\n",
      "Allocated: 0.0 GB\n",
      "Cached:    0.0 GB\n"
     ]
    }
   ],
   "source": [
    "print(\"torch.cuda.is_available()\", torch.cuda.is_available())\n",
    "print(\"torch.cuda.device_count()\", torch.cuda.device_count())\n",
    "print(\"torch.cuda.current_device()\", torch.cuda.current_device())\n",
    "print(\"torch.cuda.get_device_name(0)\", torch.cuda.get_device_name(0))\n",
    "print(\"torch.cuda.is_available()\", torch.cuda.is_available())\n",
    "\n",
    "torch.cuda.device(0)\n",
    "torch.cuda.get_device_name(0)\n",
    "\n",
    "device = torch.device(\"cuda\") if torch.cuda.is_available() else torch.device(\"cpu\")\n",
    "#Additional Info when using cuda\n",
    "if device.type == 'cuda':\n",
    "    print(torch.cuda.get_device_name(0))\n",
    "    print('Memory Usage:')\n",
    "    print('Allocated:', round(torch.cuda.memory_allocated(0)/1024**3,1), 'GB')\n",
    "    print('Cached:   ', round(torch.cuda.memory_reserved(0)/1024**3,1), 'GB')"
   ]
  },
  {
   "cell_type": "markdown",
   "id": "5c614ed1-d64b-4c73-844d-ea4c90a38c2c",
   "metadata": {},
   "source": [
    "# Download data from open datasets."
   ]
  },
  {
   "cell_type": "code",
   "execution_count": 3,
   "id": "fa1027b8-5da6-4940-9808-c20b3f1676c7",
   "metadata": {},
   "outputs": [],
   "source": [
    "# Download training data from open datasets.\n",
    "training_data = datasets.FashionMNIST(\n",
    "    root=\"data\",\n",
    "    train=True,\n",
    "    download=True,\n",
    "    transform=ToTensor(),\n",
    ")\n",
    "\n",
    "# Download test data from open datasets.\n",
    "test_data = datasets.FashionMNIST(\n",
    "    root=\"data\",\n",
    "    train=False,\n",
    "    download=True,\n",
    "    transform=ToTensor(),\n",
    ")"
   ]
  },
  {
   "cell_type": "code",
   "execution_count": 4,
   "id": "85172432-ef59-43a7-9bce-428bce04f461",
   "metadata": {},
   "outputs": [],
   "source": [
    "# Create data loaders"
   ]
  },
  {
   "cell_type": "code",
   "execution_count": 5,
   "id": "832885e6-5630-4543-bd06-4ff3d2820313",
   "metadata": {},
   "outputs": [
    {
     "name": "stdout",
     "output_type": "stream",
     "text": [
      "Shape of X [N, C, H, W]: torch.Size([64, 1, 28, 28])\n",
      "Shape of y: torch.Size([64]) torch.int64\n"
     ]
    }
   ],
   "source": [
    "batch_size = 64\n",
    "\n",
    "# Create data loaders.\n",
    "train_dataloader = DataLoader(training_data, batch_size=batch_size)\n",
    "test_dataloader = DataLoader(test_data, batch_size=batch_size)\n",
    "\n",
    "for X, y in test_dataloader:\n",
    "    print(f\"Shape of X [N, C, H, W]: {X.shape}\")\n",
    "    print(f\"Shape of y: {y.shape} {y.dtype}\")\n",
    "    break"
   ]
  },
  {
   "cell_type": "markdown",
   "id": "a313940a-eea9-43fb-bc47-15e64e0c6d91",
   "metadata": {},
   "source": [
    "# Get cpu, gpu or mps device for training."
   ]
  },
  {
   "cell_type": "code",
   "execution_count": 6,
   "id": "8e9e4c30-3026-4da9-864f-01af87070d2a",
   "metadata": {},
   "outputs": [
    {
     "name": "stdout",
     "output_type": "stream",
     "text": [
      "Using cuda device\n"
     ]
    }
   ],
   "source": [
    "# Get cpu, gpu or mps device for training.\n",
    "device = (\n",
    "    \"cuda\"\n",
    "    if torch.cuda.is_available()\n",
    "    else \"mps\"\n",
    "    if torch.backends.mps.is_available()\n",
    "    else \"cpu\"\n",
    ")\n",
    "print(f\"Using {device} device\")"
   ]
  },
  {
   "cell_type": "markdown",
   "id": "cdc7bf65-f904-48ae-a62c-8559b5cb1864",
   "metadata": {},
   "source": [
    "# Define model"
   ]
  },
  {
   "cell_type": "code",
   "execution_count": 7,
   "id": "0430f954-db24-4275-80d8-a6e4303728ba",
   "metadata": {},
   "outputs": [
    {
     "name": "stdout",
     "output_type": "stream",
     "text": [
      "NeuralNetwork(\n",
      "  (flatten): Flatten(start_dim=1, end_dim=-1)\n",
      "  (linear_relu_stack): Sequential(\n",
      "    (0): Linear(in_features=784, out_features=512, bias=True)\n",
      "    (1): ReLU()\n",
      "    (2): Linear(in_features=512, out_features=512, bias=True)\n",
      "    (3): ReLU()\n",
      "    (4): Linear(in_features=512, out_features=10, bias=True)\n",
      "  )\n",
      ")\n"
     ]
    }
   ],
   "source": [
    "# Define model\n",
    "class NeuralNetwork(nn.Module):\n",
    "    def __init__(self):\n",
    "        super().__init__()\n",
    "        self.flatten = nn.Flatten()\n",
    "        self.linear_relu_stack = nn.Sequential(\n",
    "            nn.Linear(28*28, 512),\n",
    "            nn.ReLU(),\n",
    "            nn.Linear(512, 512),\n",
    "            nn.ReLU(),\n",
    "            nn.Linear(512, 10)\n",
    "        )\n",
    "\n",
    "    def forward(self, x):\n",
    "        x = self.flatten(x)\n",
    "        logits = self.linear_relu_stack(x)\n",
    "        return logits\n",
    "\n",
    "model = NeuralNetwork().to(device)\n",
    "print(model)"
   ]
  },
  {
   "cell_type": "markdown",
   "id": "97c029de-5c9c-4348-b83f-54c3c4d7fbf0",
   "metadata": {},
   "source": [
    "# Optimizing the Model Parameters\n",
    "\n",
    "To train a model, we need a loss function and an optimizer."
   ]
  },
  {
   "cell_type": "code",
   "execution_count": 8,
   "id": "622f8145-51cd-4eb9-8686-50aa3b600b6e",
   "metadata": {},
   "outputs": [],
   "source": [
    "loss_fn = nn.CrossEntropyLoss()\n",
    "optimizer = torch.optim.SGD(model.parameters(), lr=1e-3)"
   ]
  },
  {
   "cell_type": "markdown",
   "id": "95663bbf-f36f-4783-acb0-dc3389b6994e",
   "metadata": {},
   "source": [
    "# Training Loop"
   ]
  },
  {
   "cell_type": "code",
   "execution_count": 9,
   "id": "c5b2a486-d98f-45c4-808e-cdfc6e66d649",
   "metadata": {},
   "outputs": [],
   "source": [
    "def train(dataloader, model, loss_fn, optimizer):\n",
    "    size = len(dataloader.dataset)\n",
    "    model.train()\n",
    "    for batch, (X, y) in enumerate(dataloader):\n",
    "        X, y = X.to(device), y.to(device)\n",
    "\n",
    "        # Compute prediction error\n",
    "        pred = model(X)\n",
    "        loss = loss_fn(pred, y)\n",
    "\n",
    "        # Backpropagation\n",
    "        loss.backward()\n",
    "        optimizer.step()\n",
    "        optimizer.zero_grad()\n",
    "\n",
    "        if batch % 100 == 0:\n",
    "            loss, current = loss.item(), (batch + 1) * len(X)\n",
    "            print(f\"loss: {loss:>7f}  [{current:>5d}/{size:>5d}]\")"
   ]
  },
  {
   "cell_type": "markdown",
   "id": "122e9ce5-26e8-4c58-bf22-949779f2a949",
   "metadata": {},
   "source": [
    "# Test Loop"
   ]
  },
  {
   "cell_type": "code",
   "execution_count": 10,
   "id": "2c033574-2997-401e-a962-ac8a03c551e9",
   "metadata": {},
   "outputs": [],
   "source": [
    "def test(dataloader, model, loss_fn):\n",
    "    size = len(dataloader.dataset)\n",
    "    num_batches = len(dataloader)\n",
    "    model.eval()\n",
    "    test_loss, correct = 0, 0\n",
    "    with torch.no_grad():\n",
    "        for X, y in dataloader:\n",
    "            X, y = X.to(device), y.to(device)\n",
    "            pred = model(X)\n",
    "            test_loss += loss_fn(pred, y).item()\n",
    "            correct += (pred.argmax(1) == y).type(torch.float).sum().item()\n",
    "    test_loss /= num_batches\n",
    "    correct /= size\n",
    "    print(f\"Test Error: \\n Accuracy: {(100*correct):>0.1f}%, Avg loss: {test_loss:>8f} \\n\")"
   ]
  },
  {
   "cell_type": "markdown",
   "id": "e22984f4-a3b4-466b-b5bc-166cbc3c9381",
   "metadata": {},
   "source": [
    "# Train model"
   ]
  },
  {
   "cell_type": "code",
   "execution_count": 11,
   "id": "ca8581c2-d348-480b-94c3-7d6c18ca52a4",
   "metadata": {},
   "outputs": [
    {
     "name": "stdout",
     "output_type": "stream",
     "text": [
      "Epoch 1\n",
      "-------------------------------\n",
      "loss: 2.301194  [   64/60000]\n",
      "loss: 2.294485  [ 6464/60000]\n",
      "loss: 2.270308  [12864/60000]\n",
      "loss: 2.270761  [19264/60000]\n",
      "loss: 2.254873  [25664/60000]\n",
      "loss: 2.226177  [32064/60000]\n",
      "loss: 2.237664  [38464/60000]\n",
      "loss: 2.198844  [44864/60000]\n",
      "loss: 2.192417  [51264/60000]\n",
      "loss: 2.171017  [57664/60000]\n",
      "Test Error: \n",
      " Accuracy: 42.2%, Avg loss: 2.160911 \n",
      "\n",
      "Epoch 2\n",
      "-------------------------------\n",
      "loss: 2.165620  [   64/60000]\n",
      "loss: 2.165614  [ 6464/60000]\n",
      "loss: 2.105609  [12864/60000]\n",
      "loss: 2.126203  [19264/60000]\n",
      "loss: 2.089462  [25664/60000]\n",
      "loss: 2.023586  [32064/60000]\n",
      "loss: 2.052095  [38464/60000]\n",
      "loss: 1.970819  [44864/60000]\n",
      "loss: 1.969531  [51264/60000]\n",
      "loss: 1.916173  [57664/60000]\n",
      "Test Error: \n",
      " Accuracy: 57.3%, Avg loss: 1.908194 \n",
      "\n",
      "Epoch 3\n",
      "-------------------------------\n",
      "loss: 1.933840  [   64/60000]\n",
      "loss: 1.918886  [ 6464/60000]\n",
      "loss: 1.795971  [12864/60000]\n",
      "loss: 1.837953  [19264/60000]\n",
      "loss: 1.759269  [25664/60000]\n",
      "loss: 1.690571  [32064/60000]\n",
      "loss: 1.713166  [38464/60000]\n",
      "loss: 1.605375  [44864/60000]\n",
      "loss: 1.628858  [51264/60000]\n",
      "loss: 1.534314  [57664/60000]\n",
      "Test Error: \n",
      " Accuracy: 60.6%, Avg loss: 1.546083 \n",
      "\n",
      "Epoch 4\n",
      "-------------------------------\n",
      "loss: 1.606871  [   64/60000]\n",
      "loss: 1.581519  [ 6464/60000]\n",
      "loss: 1.423491  [12864/60000]\n",
      "loss: 1.499235  [19264/60000]\n",
      "loss: 1.399421  [25664/60000]\n",
      "loss: 1.375384  [32064/60000]\n",
      "loss: 1.397890  [38464/60000]\n",
      "loss: 1.307311  [44864/60000]\n",
      "loss: 1.347685  [51264/60000]\n",
      "loss: 1.253632  [57664/60000]\n",
      "Test Error: \n",
      " Accuracy: 63.2%, Avg loss: 1.275145 \n",
      "\n",
      "Epoch 5\n",
      "-------------------------------\n",
      "loss: 1.346950  [   64/60000]\n",
      "loss: 1.334272  [ 6464/60000]\n",
      "loss: 1.165216  [12864/60000]\n",
      "loss: 1.272946  [19264/60000]\n",
      "loss: 1.158669  [25664/60000]\n",
      "loss: 1.170650  [32064/60000]\n",
      "loss: 1.200328  [38464/60000]\n",
      "loss: 1.123184  [44864/60000]\n",
      "loss: 1.167758  [51264/60000]\n",
      "loss: 1.085580  [57664/60000]\n",
      "Test Error: \n",
      " Accuracy: 64.6%, Avg loss: 1.104639 \n",
      "\n",
      "Epoch 6\n",
      "-------------------------------\n",
      "loss: 1.171067  [   64/60000]\n",
      "loss: 1.176699  [ 6464/60000]\n",
      "loss: 0.994119  [12864/60000]\n",
      "loss: 1.127798  [19264/60000]\n",
      "loss: 1.008040  [25664/60000]\n",
      "loss: 1.031820  [32064/60000]\n",
      "loss: 1.074485  [38464/60000]\n",
      "loss: 1.004790  [44864/60000]\n",
      "loss: 1.049995  [51264/60000]\n",
      "loss: 0.976788  [57664/60000]\n",
      "Test Error: \n",
      " Accuracy: 65.5%, Avg loss: 0.993061 \n",
      "\n",
      "Epoch 7\n",
      "-------------------------------\n",
      "loss: 1.047863  [   64/60000]\n",
      "loss: 1.073222  [ 6464/60000]\n",
      "loss: 0.875847  [12864/60000]\n",
      "loss: 1.029812  [19264/60000]\n",
      "loss: 0.913049  [25664/60000]\n",
      "loss: 0.933363  [32064/60000]\n",
      "loss: 0.990698  [38464/60000]\n",
      "loss: 0.927092  [44864/60000]\n",
      "loss: 0.968358  [51264/60000]\n",
      "loss: 0.902446  [57664/60000]\n",
      "Test Error: \n",
      " Accuracy: 66.6%, Avg loss: 0.916735 \n",
      "\n",
      "Epoch 8\n",
      "-------------------------------\n",
      "loss: 0.957178  [   64/60000]\n",
      "loss: 1.001246  [ 6464/60000]\n",
      "loss: 0.790789  [12864/60000]\n",
      "loss: 0.960743  [19264/60000]\n",
      "loss: 0.850302  [25664/60000]\n",
      "loss: 0.861302  [32064/60000]\n",
      "loss: 0.931804  [38464/60000]\n",
      "loss: 0.874797  [44864/60000]\n",
      "loss: 0.909234  [51264/60000]\n",
      "loss: 0.848752  [57664/60000]\n",
      "Test Error: \n",
      " Accuracy: 67.8%, Avg loss: 0.862049 \n",
      "\n",
      "Epoch 9\n",
      "-------------------------------\n",
      "loss: 0.887661  [   64/60000]\n",
      "loss: 0.947404  [ 6464/60000]\n",
      "loss: 0.727218  [12864/60000]\n",
      "loss: 0.910028  [19264/60000]\n",
      "loss: 0.805938  [25664/60000]\n",
      "loss: 0.807386  [32064/60000]\n",
      "loss: 0.887452  [38464/60000]\n",
      "loss: 0.838597  [44864/60000]\n",
      "loss: 0.865073  [51264/60000]\n",
      "loss: 0.807917  [57664/60000]\n",
      "Test Error: \n",
      " Accuracy: 69.0%, Avg loss: 0.821022 \n",
      "\n",
      "Epoch 10\n",
      "-------------------------------\n",
      "loss: 0.832469  [   64/60000]\n",
      "loss: 0.904547  [ 6464/60000]\n",
      "loss: 0.677908  [12864/60000]\n",
      "loss: 0.871610  [19264/60000]\n",
      "loss: 0.772635  [25664/60000]\n",
      "loss: 0.766194  [32064/60000]\n",
      "loss: 0.852001  [38464/60000]\n",
      "loss: 0.812112  [44864/60000]\n",
      "loss: 0.830890  [51264/60000]\n",
      "loss: 0.775327  [57664/60000]\n",
      "Test Error: \n",
      " Accuracy: 70.2%, Avg loss: 0.788756 \n",
      "\n",
      "Epoch 11\n",
      "-------------------------------\n",
      "loss: 0.787286  [   64/60000]\n",
      "loss: 0.868703  [ 6464/60000]\n",
      "loss: 0.638348  [12864/60000]\n",
      "loss: 0.841440  [19264/60000]\n",
      "loss: 0.746227  [25664/60000]\n",
      "loss: 0.733853  [32064/60000]\n",
      "loss: 0.822219  [38464/60000]\n",
      "loss: 0.791441  [44864/60000]\n",
      "loss: 0.803340  [51264/60000]\n",
      "loss: 0.748251  [57664/60000]\n",
      "Test Error: \n",
      " Accuracy: 71.6%, Avg loss: 0.762208 \n",
      "\n",
      "Epoch 12\n",
      "-------------------------------\n",
      "loss: 0.749091  [   64/60000]\n",
      "loss: 0.837359  [ 6464/60000]\n",
      "loss: 0.605459  [12864/60000]\n",
      "loss: 0.816842  [19264/60000]\n",
      "loss: 0.724301  [25664/60000]\n",
      "loss: 0.707914  [32064/60000]\n",
      "loss: 0.796242  [38464/60000]\n",
      "loss: 0.774287  [44864/60000]\n",
      "loss: 0.780408  [51264/60000]\n",
      "loss: 0.725092  [57664/60000]\n",
      "Test Error: \n",
      " Accuracy: 72.8%, Avg loss: 0.739460 \n",
      "\n",
      "Epoch 13\n",
      "-------------------------------\n",
      "loss: 0.715943  [   64/60000]\n",
      "loss: 0.809152  [ 6464/60000]\n",
      "loss: 0.577393  [12864/60000]\n",
      "loss: 0.796267  [19264/60000]\n",
      "loss: 0.705480  [25664/60000]\n",
      "loss: 0.686600  [32064/60000]\n",
      "loss: 0.772921  [38464/60000]\n",
      "loss: 0.759352  [44864/60000]\n",
      "loss: 0.760878  [51264/60000]\n",
      "loss: 0.704664  [57664/60000]\n",
      "Test Error: \n",
      " Accuracy: 73.9%, Avg loss: 0.719358 \n",
      "\n",
      "Epoch 14\n",
      "-------------------------------\n",
      "loss: 0.686747  [   64/60000]\n",
      "loss: 0.783389  [ 6464/60000]\n",
      "loss: 0.553091  [12864/60000]\n",
      "loss: 0.778619  [19264/60000]\n",
      "loss: 0.689025  [25664/60000]\n",
      "loss: 0.668574  [32064/60000]\n",
      "loss: 0.751313  [38464/60000]\n",
      "loss: 0.745730  [44864/60000]\n",
      "loss: 0.743486  [51264/60000]\n",
      "loss: 0.686365  [57664/60000]\n",
      "Test Error: \n",
      " Accuracy: 74.8%, Avg loss: 0.701218 \n",
      "\n",
      "Epoch 15\n",
      "-------------------------------\n",
      "loss: 0.660687  [   64/60000]\n",
      "loss: 0.759780  [ 6464/60000]\n",
      "loss: 0.531601  [12864/60000]\n",
      "loss: 0.763066  [19264/60000]\n",
      "loss: 0.674279  [25664/60000]\n",
      "loss: 0.653214  [32064/60000]\n",
      "loss: 0.731227  [38464/60000]\n",
      "loss: 0.733369  [44864/60000]\n",
      "loss: 0.727905  [51264/60000]\n",
      "loss: 0.669801  [57664/60000]\n",
      "Test Error: \n",
      " Accuracy: 75.5%, Avg loss: 0.684648 \n",
      "\n",
      "Epoch 16\n",
      "-------------------------------\n",
      "loss: 0.637354  [   64/60000]\n",
      "loss: 0.738042  [ 6464/60000]\n",
      "loss: 0.512439  [12864/60000]\n",
      "loss: 0.749116  [19264/60000]\n",
      "loss: 0.661182  [25664/60000]\n",
      "loss: 0.639846  [32064/60000]\n",
      "loss: 0.712536  [38464/60000]\n",
      "loss: 0.722181  [44864/60000]\n",
      "loss: 0.713969  [51264/60000]\n",
      "loss: 0.654730  [57664/60000]\n",
      "Test Error: \n",
      " Accuracy: 76.2%, Avg loss: 0.669397 \n",
      "\n",
      "Epoch 17\n",
      "-------------------------------\n",
      "loss: 0.616354  [   64/60000]\n",
      "loss: 0.718001  [ 6464/60000]\n",
      "loss: 0.495266  [12864/60000]\n",
      "loss: 0.736334  [19264/60000]\n",
      "loss: 0.649459  [25664/60000]\n",
      "loss: 0.628136  [32064/60000]\n",
      "loss: 0.695199  [38464/60000]\n",
      "loss: 0.712128  [44864/60000]\n",
      "loss: 0.701609  [51264/60000]\n",
      "loss: 0.640917  [57664/60000]\n",
      "Test Error: \n",
      " Accuracy: 76.9%, Avg loss: 0.655330 \n",
      "\n",
      "Epoch 18\n",
      "-------------------------------\n",
      "loss: 0.597507  [   64/60000]\n",
      "loss: 0.699574  [ 6464/60000]\n",
      "loss: 0.479767  [12864/60000]\n",
      "loss: 0.724555  [19264/60000]\n",
      "loss: 0.638874  [25664/60000]\n",
      "loss: 0.617815  [32064/60000]\n",
      "loss: 0.679018  [38464/60000]\n",
      "loss: 0.703243  [44864/60000]\n",
      "loss: 0.690707  [51264/60000]\n",
      "loss: 0.628232  [57664/60000]\n",
      "Test Error: \n",
      " Accuracy: 77.4%, Avg loss: 0.642361 \n",
      "\n",
      "Epoch 19\n",
      "-------------------------------\n",
      "loss: 0.580445  [   64/60000]\n",
      "loss: 0.682629  [ 6464/60000]\n",
      "loss: 0.465788  [12864/60000]\n",
      "loss: 0.713632  [19264/60000]\n",
      "loss: 0.629397  [25664/60000]\n",
      "loss: 0.608619  [32064/60000]\n",
      "loss: 0.664071  [38464/60000]\n",
      "loss: 0.695542  [44864/60000]\n",
      "loss: 0.681189  [51264/60000]\n",
      "loss: 0.616546  [57664/60000]\n",
      "Test Error: \n",
      " Accuracy: 77.9%, Avg loss: 0.630402 \n",
      "\n",
      "Epoch 20\n",
      "-------------------------------\n",
      "loss: 0.564969  [   64/60000]\n",
      "loss: 0.667057  [ 6464/60000]\n",
      "loss: 0.453104  [12864/60000]\n",
      "loss: 0.703490  [19264/60000]\n",
      "loss: 0.620794  [25664/60000]\n",
      "loss: 0.600325  [32064/60000]\n",
      "loss: 0.650186  [38464/60000]\n",
      "loss: 0.688899  [44864/60000]\n",
      "loss: 0.672971  [51264/60000]\n",
      "loss: 0.605665  [57664/60000]\n",
      "Test Error: \n",
      " Accuracy: 78.3%, Avg loss: 0.619378 \n",
      "\n",
      "Done!\n"
     ]
    }
   ],
   "source": [
    "epochs = 20\n",
    "for t in range(epochs):\n",
    "    print(f\"Epoch {t+1}\\n-------------------------------\")\n",
    "    train(train_dataloader, model, loss_fn, optimizer)\n",
    "    test(test_dataloader, model, loss_fn)\n",
    "print(\"Done!\")"
   ]
  },
  {
   "cell_type": "markdown",
   "id": "f7cd787f-284d-445f-b4e3-6c6a35cde844",
   "metadata": {},
   "source": [
    "# Save Model"
   ]
  },
  {
   "cell_type": "code",
   "execution_count": 12,
   "id": "2f0b2db0-a35e-4d4a-a0b0-04c142abca96",
   "metadata": {},
   "outputs": [
    {
     "name": "stdout",
     "output_type": "stream",
     "text": [
      "Saved PyTorch Model State to model.pth\n"
     ]
    }
   ],
   "source": [
    "torch.save(model.state_dict(), \"model.pth\")\n",
    "print(\"Saved PyTorch Model State to model.pth\")"
   ]
  },
  {
   "cell_type": "markdown",
   "id": "b8a71883-d4b3-47a3-a61c-b8cdbb43833a",
   "metadata": {},
   "source": [
    "# Load Model"
   ]
  },
  {
   "cell_type": "code",
   "execution_count": 13,
   "id": "c43f71c1-6083-47be-9e6c-9b30e7150231",
   "metadata": {},
   "outputs": [
    {
     "data": {
      "text/plain": [
       "<All keys matched successfully>"
      ]
     },
     "execution_count": 13,
     "metadata": {},
     "output_type": "execute_result"
    }
   ],
   "source": [
    "model = NeuralNetwork().to(device)\n",
    "model.load_state_dict(torch.load(\"model.pth\", weights_only=True))"
   ]
  },
  {
   "cell_type": "markdown",
   "id": "8b606f4d-cc59-4ca6-a2e8-fda868750a07",
   "metadata": {},
   "source": [
    "# Use the model to perform predictions"
   ]
  },
  {
   "cell_type": "code",
   "execution_count": 14,
   "id": "aa141887-95be-4c36-95e7-86f95f9f7cd8",
   "metadata": {},
   "outputs": [
    {
     "name": "stdout",
     "output_type": "stream",
     "text": [
      "Predicted: \"Ankle boot\", Actual: \"Ankle boot\"\n"
     ]
    }
   ],
   "source": [
    "classes = [\n",
    "    \"T-shirt/top\",\n",
    "    \"Trouser\",\n",
    "    \"Pullover\",\n",
    "    \"Dress\",\n",
    "    \"Coat\",\n",
    "    \"Sandal\",\n",
    "    \"Shirt\",\n",
    "    \"Sneaker\",\n",
    "    \"Bag\",\n",
    "    \"Ankle boot\",\n",
    "]\n",
    "\n",
    "model.eval()\n",
    "x, y = test_data[0][0], test_data[0][1]\n",
    "with torch.no_grad():\n",
    "    x = x.to(device)\n",
    "    pred = model(x)\n",
    "    predicted, actual = classes[pred[0].argmax(0)], classes[y]\n",
    "    print(f'Predicted: \"{predicted}\", Actual: \"{actual}\"')"
   ]
  },
  {
   "cell_type": "code",
   "execution_count": null,
   "id": "ae7d846a-5231-4947-a310-68661c7da7a8",
   "metadata": {},
   "outputs": [],
   "source": []
  },
  {
   "cell_type": "code",
   "execution_count": null,
   "id": "dea9d107-45ff-4743-b376-5d7b5d2f801b",
   "metadata": {},
   "outputs": [],
   "source": []
  }
 ],
 "metadata": {
  "kernelspec": {
   "display_name": "Python 3 (ipykernel)",
   "language": "python",
   "name": "python3"
  },
  "language_info": {
   "codemirror_mode": {
    "name": "ipython",
    "version": 3
   },
   "file_extension": ".py",
   "mimetype": "text/x-python",
   "name": "python",
   "nbconvert_exporter": "python",
   "pygments_lexer": "ipython3",
   "version": "3.11.8"
  }
 },
 "nbformat": 4,
 "nbformat_minor": 5
}
